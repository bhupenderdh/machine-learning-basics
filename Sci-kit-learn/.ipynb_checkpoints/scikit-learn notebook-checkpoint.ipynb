{
 "cells": [
  {
   "cell_type": "markdown",
   "metadata": {},
   "source": [
    "# k-Nearest Neighbors"
   ]
  },
  {
   "cell_type": "code",
   "execution_count": 1,
   "metadata": {},
   "outputs": [
    {
     "data": {
      "application/javascript": [
       "IPython.notebook.set_autosave_interval(5000)"
      ]
     },
     "metadata": {},
     "output_type": "display_data"
    },
    {
     "name": "stdout",
     "output_type": "stream",
     "text": [
      "Autosaving every 5 seconds\n"
     ]
    }
   ],
   "source": [
    "import warnings\n",
    "warnings.filterwarnings('ignore')\n",
    "%autosave 5"
   ]
  },
  {
   "cell_type": "code",
   "execution_count": null,
   "metadata": {},
   "outputs": [],
   "source": [
    "# Import necessary libraries\n",
    "import pandas as pd\n",
    "import numpy as np\n",
    "import matplotlib.pyplot as plt\n",
    "import seaborn as sns\n",
    "from sklearn import datasets\n",
    "%matplotlib inline\n",
    "\n",
    "# Import iris data\n",
    "iris = datasets.load_iris()"
   ]
  },
  {
   "cell_type": "code",
   "execution_count": null,
   "metadata": {},
   "outputs": [],
   "source": [
    "# Create dataframe to store iris data\n",
    "iris_df = pd.DataFrame(data=iris.data, columns=iris.feature_names)\n",
    "iris_df['target'] = iris.target_names[iris.target]\n",
    "\n",
    "iris_df.head()"
   ]
  },
  {
   "cell_type": "code",
   "execution_count": null,
   "metadata": {},
   "outputs": [],
   "source": [
    "# Import estimator\n",
    "from sklearn.neighbors import KNeighborsClassifier\n",
    "np.random.seed(0)   # setting random seed for reproducibility\n",
    "\n",
    "# Create an instance of the estimator\n",
    "flower_classifier = KNeighborsClassifier(n_neighbors=3)"
   ]
  },
  {
   "cell_type": "code",
   "execution_count": null,
   "metadata": {},
   "outputs": [],
   "source": [
    "# Train our model\n",
    "flower_classifier.fit(X=iris.data, y=iris.target)"
   ]
  },
  {
   "cell_type": "code",
   "execution_count": null,
   "metadata": {},
   "outputs": [],
   "source": [
    "# Store measurements of new flowers in two-dimensional arrays\n",
    "new_flower1 = np.array([[5.1, 3.0, 1.1, 0.5]])\n",
    "new_flower2 = np.array([[6.0, 2.9, 4.5, 1.1]])"
   ]
  },
  {
   "cell_type": "code",
   "execution_count": null,
   "metadata": {},
   "outputs": [],
   "source": [
    "# Make predictions\n",
    "new_flower_pred1 = flower_classifier.predict(new_flower1)\n",
    "new_flower_pred2 = flower_classifier.predict(new_flower2)\n",
    "\n",
    "print(f'Predicted species of new_flower1: {new_flower_pred1}')\n",
    "print(f'Predicted species of new_flower2: {new_flower_pred2}')"
   ]
  },
  {
   "cell_type": "code",
   "execution_count": null,
   "metadata": {},
   "outputs": [],
   "source": [
    "# Make more predictions\n",
    "new_flowers = np.array([[5.5, 2.1, 2.0, 0.9],\n",
    "                        [7.2, 3.8, 9.0, 1.9]])\n",
    "\n",
    "new_flowers_pred = flower_classifier.predict(new_flowers)\n",
    "\n",
    "print(f'Predicted species of new flowers: {new_flowers_pred}')"
   ]
  },
  {
   "cell_type": "code",
   "execution_count": null,
   "metadata": {
    "eid": "5b5263e8"
   },
   "outputs": [],
   "source": [
    "# TASK --- Predict species of new flowers\n"
   ]
  },
  {
   "cell_type": "markdown",
   "metadata": {},
   "source": [
    "# Logistic Regression"
   ]
  },
  {
   "cell_type": "code",
   "execution_count": null,
   "metadata": {},
   "outputs": [],
   "source": [
    "# Import data\n",
    "data = pd.read_csv('student_alc.csv')\n",
    "\n",
    "# Show first five rows\n",
    "data.head()"
   ]
  },
  {
   "cell_type": "code",
   "execution_count": null,
   "metadata": {},
   "outputs": [],
   "source": [
    "# Store features and target variables as list\n",
    "features = ['sex', 'famsize', 'age', 'studytime', 'famrel', 'goout', 'freetime', 'G3']\n",
    "target = 'alc'"
   ]
  },
  {
   "cell_type": "code",
   "execution_count": null,
   "metadata": {},
   "outputs": [],
   "source": [
    "# One-hot encode categorical variables\n",
    "data['sex'] = data['sex'].map({'F': 0, 'M': 1})\n",
    "data['famsize'] = data['famsize'].map({'LE3': 0, 'GT3': 1})\n",
    "data['alc'] = data['alc'].map({'Low': 0, 'High': 1})"
   ]
  },
  {
   "cell_type": "code",
   "execution_count": null,
   "metadata": {},
   "outputs": [],
   "source": [
    "# Save feature and target values into X and y\n",
    "X = data[features].values\n",
    "y = data[target].values"
   ]
  },
  {
   "cell_type": "code",
   "execution_count": null,
   "metadata": {},
   "outputs": [],
   "source": [
    "# Calculate a benchmark\n",
    "data['alc'].value_counts(normalize=True)"
   ]
  },
  {
   "cell_type": "code",
   "execution_count": null,
   "metadata": {},
   "outputs": [],
   "source": [
    "# Import necessary model\n",
    "from sklearn.linear_model import LogisticRegression\n",
    "np.random.seed(0)   # setting random seed for reproducibility\n",
    "\n",
    "# Create instance of Logistic Regression object\n",
    "student_classifier_logreg = LogisticRegression(C=2, solver='liblinear')\n",
    "\n",
    "# Train logistic regression model\n",
    "student_classifier_logreg.fit(X, y)"
   ]
  },
  {
   "cell_type": "code",
   "execution_count": null,
   "metadata": {},
   "outputs": [],
   "source": [
    "# Store predictions in new column in DataFrame\n",
    "data['predictions_logreg'] = student_classifier_logreg.predict(X)\n",
    "\n",
    "# Create confusion matrix\n",
    "conf_matrix = pd.crosstab(data['predictions_logreg'], data['alc'])\n",
    "conf_matrix"
   ]
  },
  {
   "cell_type": "code",
   "execution_count": null,
   "metadata": {},
   "outputs": [],
   "source": [
    "# Calculate accuracy from confusion matrix\n",
    "accuracy = (conf_matrix.iloc[0, 0] + conf_matrix.iloc[1, 1]) / data.shape[0]\n",
    "\n",
    "print(f\"The model's accuracy was {(accuracy * 100):.4f}%\")"
   ]
  },
  {
   "cell_type": "markdown",
   "metadata": {},
   "source": [
    "# Random Forests"
   ]
  },
  {
   "cell_type": "code",
   "execution_count": null,
   "metadata": {},
   "outputs": [],
   "source": [
    "# Import RandomForestClassifier object\n",
    "from sklearn.ensemble import RandomForestClassifier\n",
    "np.random.seed(0)   # setting random seed for reproducibility"
   ]
  },
  {
   "cell_type": "code",
   "execution_count": null,
   "metadata": {
    "eid": "1442c44a"
   },
   "outputs": [],
   "source": [
    "# TASK --- Create instance of object and train random forest model\n"
   ]
  },
  {
   "cell_type": "code",
   "execution_count": null,
   "metadata": {},
   "outputs": [],
   "source": [
    "# Store predictions in new column in DataFrame\n",
    "data['predictions_rf'] = student_classifier_rf.predict(X)\n",
    "\n",
    "# Create confusion matrix\n",
    "conf_matrix = pd.crosstab(data['predictions_rf'], data['alc'])\n",
    "conf_matrix"
   ]
  },
  {
   "cell_type": "code",
   "execution_count": null,
   "metadata": {
    "eid": "a0d13c1f"
   },
   "outputs": [],
   "source": [
    "# TASK --- Calculate accuracy\n"
   ]
  },
  {
   "cell_type": "code",
   "execution_count": null,
   "metadata": {},
   "outputs": [],
   "source": [
    "# Features: [gender, famsize, age, studytime, famrel, goout, freetime, G3]\n",
    "new_student1 = np.array([[1, 1, 18, 2, 1, 5, 5, 10]])\n",
    "\n",
    "# Make prediction\n",
    "new_student1_pred = student_classifier_rf.predict(new_student1)\n",
    "\n",
    "# Decode prediction\n",
    "def decode(prediction):\n",
    "    \"\"\"\n",
    "    Return 'High' if prediction is '1'\n",
    "    Return 'Low' if prediction is '0'.\n",
    "    \"\"\"\n",
    "    if prediction == 1:\n",
    "        return('High')\n",
    "    else:\n",
    "        return('Low')\n",
    "\n",
    "decode(new_student1_pred)"
   ]
  },
  {
   "cell_type": "code",
   "execution_count": null,
   "metadata": {},
   "outputs": [],
   "source": [
    "# New students!\n",
    "new_student2 = np.array([[0, 1, 19, 5, 5, 1, 1, 18]])\n",
    "new_student3 = np.array([[1, 0, 17, 2, 0, 3, 1, 8]])"
   ]
  },
  {
   "cell_type": "code",
   "execution_count": null,
   "metadata": {
    "eid": "9ae3a8c5"
   },
   "outputs": [],
   "source": [
    "# TASK --- Predictions alcohol consumption level for new_student2\n"
   ]
  },
  {
   "cell_type": "code",
   "execution_count": null,
   "metadata": {
    "eid": "9b3998c1"
   },
   "outputs": [],
   "source": [
    "# TASK --- Predictions alcohol consumption level for new_student3\n"
   ]
  },
  {
   "cell_type": "markdown",
   "metadata": {},
   "source": [
    "# Linear Regression"
   ]
  },
  {
   "cell_type": "code",
   "execution_count": null,
   "metadata": {},
   "outputs": [],
   "source": [
    "# Import data\n",
    "housing = pd.read_csv('house.csv')\n",
    "\n",
    "# Create 'Age' variable as in 'EDA with `seaborn`' lesson\n",
    "housing['Age'] = housing['YrSold'] - housing['YearBuilt']\n",
    "\n",
    "# Show first five rows\n",
    "housing.head()"
   ]
  },
  {
   "cell_type": "code",
   "execution_count": null,
   "metadata": {},
   "outputs": [],
   "source": [
    "# Remove neighborhoods with less than 30 observations\n",
    "counts = housing['Neighborhood'].value_counts()\n",
    "housing = housing.loc[housing['Neighborhood'].isin(counts[counts > 30].index)]\n",
    "\n",
    "housing.shape"
   ]
  },
  {
   "cell_type": "code",
   "execution_count": null,
   "metadata": {},
   "outputs": [],
   "source": [
    "# Store feature and target variables\n",
    "features = ['CentralAir', 'LotArea', 'OverallQual', 'OverallCond', '1stFlrSF', '2ndFlrSF', 'BedroomAbvGr', 'Age']\n",
    "target = 'SalePrice'"
   ]
  },
  {
   "cell_type": "code",
   "execution_count": null,
   "metadata": {},
   "outputs": [],
   "source": [
    "# One-hot encode CentralAir\n",
    "housing['CentralAir'] = housing['CentralAir'].map({'N':0, 'Y':1})"
   ]
  },
  {
   "cell_type": "code",
   "execution_count": null,
   "metadata": {},
   "outputs": [],
   "source": [
    "# One-hot encode Neighborhood\n",
    "dummies_nb = pd.get_dummies(housing['Neighborhood'])\n",
    "dummies_nb.head()"
   ]
  },
  {
   "cell_type": "code",
   "execution_count": null,
   "metadata": {},
   "outputs": [],
   "source": [
    "# Compare dummy variables to original neighborhood data\n",
    "housing['Neighborhood'].head()"
   ]
  },
  {
   "cell_type": "code",
   "execution_count": null,
   "metadata": {},
   "outputs": [],
   "source": [
    "# Join dummy variables to original dataset\n",
    "housing = pd.concat([housing, dummies_nb], axis=1)\n",
    "housing.head()"
   ]
  },
  {
   "cell_type": "code",
   "execution_count": null,
   "metadata": {
    "scrolled": true
   },
   "outputs": [],
   "source": [
    "# Add dummy variables to feature list\n",
    "features += list(dummies_nb.columns)\n",
    "features"
   ]
  },
  {
   "cell_type": "code",
   "execution_count": null,
   "metadata": {},
   "outputs": [],
   "source": [
    "# Store features, target, and number of observations\n",
    "X = housing[features].values\n",
    "y = housing[target].values\n",
    "n = housing.shape[0]"
   ]
  },
  {
   "cell_type": "code",
   "execution_count": null,
   "metadata": {},
   "outputs": [],
   "source": [
    "# Calculate mean sale price for benchmark\n",
    "y_mean = np.mean(y)\n",
    "y_mean"
   ]
  },
  {
   "cell_type": "code",
   "execution_count": null,
   "metadata": {},
   "outputs": [],
   "source": [
    "# Calculate benchmark RMSE\n",
    "RMSE_benchmark = np.sqrt(np.sum((y - y_mean)**2) / n)\n",
    "RMSE_benchmark"
   ]
  },
  {
   "cell_type": "code",
   "execution_count": null,
   "metadata": {},
   "outputs": [],
   "source": [
    "# Build linear regression model\n",
    "from sklearn.linear_model import LinearRegression\n",
    "np.random.seed(0)   # setting random seed for reproducibility\n",
    "\n",
    "lr = LinearRegression()\n",
    "lr.fit(X, y)\n",
    "\n",
    "# Make predictions\n",
    "housing['predictions'] = lr.predict(X)\n",
    "y_pred = housing['predictions'].values"
   ]
  },
  {
   "cell_type": "code",
   "execution_count": null,
   "metadata": {},
   "outputs": [],
   "source": [
    "# Calculate RMSE for linear regression model\n",
    "RMSE_lr = np.sqrt(np.sum((y - y_pred)**2) / n)\n",
    "RMSE_lr"
   ]
  },
  {
   "cell_type": "code",
   "execution_count": null,
   "metadata": {
    "scrolled": false
   },
   "outputs": [],
   "source": [
    "# Create scatter to compare predictions to actual sale prices\n",
    "## Set style\n",
    "sns.set(style='white', palette='deep', rc={'figure.figsize':[8, 8]})\n",
    "\n",
    "## Plot scatterplot for predictions and actual prices\n",
    "fig, ax = plt.subplots()\n",
    "ax.scatter(x=housing['SalePrice'], y=housing['predictions'], edgecolor='white')\n",
    "ax.set_title('Predicted House Price vs Actual House Price')\n",
    "ax.set_xlabel('Actuals')\n",
    "ax.set_ylabel('Predictions')\n",
    "\n",
    "## Plot gray dotted diagonal line (where markers should lie if predictions = actual)\n",
    "lims = [\n",
    "    np.min([ax.get_xlim(), ax.get_ylim()]),   # find min limits of figure\n",
    "    np.max([ax.get_xlim(), ax.get_ylim()])    # find max limits of figure\n",
    "]\n",
    "ax.plot(lims, lims, color='0.5', linestyle='--')\n",
    "\n",
    "## Remove top and right spines\n",
    "sns.despine()\n",
    "plt.show()"
   ]
  },
  {
   "cell_type": "code",
   "execution_count": null,
   "metadata": {
    "eid": "1cb0c84e"
   },
   "outputs": [],
   "source": [
    "# TASK --- Predict price of new_house1\n",
    "## Remember, features are ['CentralAir', 'LotArea', 'OverallQual', 'OverallCond',\n",
    "## '1stFlrSF', '2ndFlrSF', 'BedroomAbvGr', 'Age', 'Neighborhood']\n"
   ]
  },
  {
   "cell_type": "code",
   "execution_count": null,
   "metadata": {
    "eid": "bfad23e3"
   },
   "outputs": [],
   "source": [
    "# TASK --- Predict price of new_house2\n"
   ]
  }
 ],
 "metadata": {
  "kernelspec": {
   "display_name": "Python 3",
   "language": "python",
   "name": "python3"
  },
  "language_info": {
   "codemirror_mode": {
    "name": "ipython",
    "version": 3
   },
   "file_extension": ".py",
   "mimetype": "text/x-python",
   "name": "python",
   "nbconvert_exporter": "python",
   "pygments_lexer": "ipython3",
   "version": "3.7.4"
  }
 },
 "nbformat": 4,
 "nbformat_minor": 2
}
