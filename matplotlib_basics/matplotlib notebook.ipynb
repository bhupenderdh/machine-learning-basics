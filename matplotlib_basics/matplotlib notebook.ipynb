{
 "cells": [
  {
   "cell_type": "markdown",
   "metadata": {},
   "source": [
    "# `pyplot` API"
   ]
  },
  {
   "cell_type": "code",
   "execution_count": null,
   "metadata": {},
   "outputs": [],
   "source": [
    "%autosave 5"
   ]
  },
  {
   "cell_type": "code",
   "execution_count": null,
   "metadata": {},
   "outputs": [],
   "source": [
    "import matplotlib.pyplot as plt\n",
    "%matplotlib inline"
   ]
  },
  {
   "cell_type": "code",
   "execution_count": null,
   "metadata": {},
   "outputs": [],
   "source": [
    "# Building a simple plot\n",
    "## Plot a list of numbers\n",
    "plt.plot([1, 2, 3, 2.5])\n",
    "plt.show()"
   ]
  },
  {
   "cell_type": "code",
   "execution_count": null,
   "metadata": {},
   "outputs": [],
   "source": [
    "# Building a simple plot\n",
    "## Plot a list of numbers and label the y-axis\n",
    "plt.plot([1, 2, 3, 2.5])\n",
    "plt.ylabel('Some Numbers')\n",
    "plt.show()"
   ]
  },
  {
   "cell_type": "code",
   "execution_count": null,
   "metadata": {},
   "outputs": [],
   "source": [
    "# Building a simple plot\n",
    "## Plot with two lists of numbers\n",
    "plt.plot([1, 2, 3, 4], [1, 4, 9, 16])\n",
    "plt.show()"
   ]
  },
  {
   "cell_type": "code",
   "execution_count": null,
   "metadata": {},
   "outputs": [],
   "source": [
    "# Building a complex plot\n",
    "## Step 1: create a line plot\n",
    "plt.plot([1, 2, 3, 4], [10, 20, 25, 30],\n",
    "        color='lightblue',\n",
    "        linewidth=3)\n",
    "\n",
    "plt.show()"
   ]
  },
  {
   "cell_type": "code",
   "execution_count": null,
   "metadata": {},
   "outputs": [],
   "source": [
    "# Building a complex plot\n",
    "## Step 1: create a line plot\n",
    "plt.plot([1, 2, 3, 4], [10, 20, 25, 30],\n",
    "        color='lightblue',\n",
    "        linewidth=3)\n",
    "\n",
    "## Step 2: add a scatter plot\n",
    "plt.scatter([0.3, 3.8, 1.2, 2.5], [11, 25, 9, 26],\n",
    "           color='darkgreen',\n",
    "           marker='^')\n",
    "\n",
    "plt.show()"
   ]
  },
  {
   "cell_type": "code",
   "execution_count": null,
   "metadata": {},
   "outputs": [],
   "source": [
    "# Building a complex plot\n",
    "## Step 1: create a line plot\n",
    "plt.plot([1, 2, 3, 4], [10, 20, 25, 30],\n",
    "        color='lightblue',\n",
    "        linewidth=3)\n",
    "\n",
    "## Step 2: add a scatter plot\n",
    "plt.scatter([0.3, 3.8, 1.2, 2.5], [11, 25, 9, 26],\n",
    "           color='darkgreen',\n",
    "           marker='^')\n",
    "\n",
    "## Step 3: change x limits\n",
    "plt.xlim(0.5, 4.5)\n",
    "\n",
    "plt.show()"
   ]
  },
  {
   "cell_type": "code",
   "execution_count": null,
   "metadata": {},
   "outputs": [],
   "source": [
    "# Building a complex plot\n",
    "## Step 1: create a line plot\n",
    "plt.plot([1, 2, 3, 4], [10, 20, 25, 30],\n",
    "        color='lightblue',\n",
    "        linewidth=3)\n",
    "\n",
    "## Step 2: add a scatter plot\n",
    "plt.scatter([0.3, 3.8, 1.2, 2.5], [11, 25, 9, 26],\n",
    "           color='darkgreen',\n",
    "           marker='^')\n",
    "\n",
    "## Step 3: change x limits\n",
    "plt.xlim(0.5, 4.5)\n",
    "\n",
    "## Step 4: add title and axis labels\n",
    "plt.title('Title of Plot')\n",
    "plt.xlabel('This is the x-label')\n",
    "plt.ylabel('This is the y-label')\n",
    "\n",
    "plt.show()"
   ]
  },
  {
   "cell_type": "code",
   "execution_count": null,
   "metadata": {},
   "outputs": [],
   "source": [
    "# Building a complex figure with two subplots\n",
    "## Step 0: create data\n",
    "import numpy as np\n",
    "def f(t):\n",
    "    return np.exp(-t) * np.cos(2 * np.pi * t)\n",
    "\n",
    "t1 = np.arange(0.0, 5.0, 0.1)\n",
    "t2 = np.arange(0.0, 5.0, 0.02)"
   ]
  },
  {
   "cell_type": "code",
   "execution_count": null,
   "metadata": {},
   "outputs": [],
   "source": [
    "# Building a complex figure with two subplots\n",
    "## Step 1: create figure\n",
    "plt.figure()\n",
    "\n",
    "## Step 2: create subplot 1\n",
    "plt.subplot(2, 1, 1)\n",
    "plt.plot(t1, f(t1), 'bo')\n",
    "\n",
    "## Step 3: create subplot 2\n",
    "plt.subplot(2, 1, 2)\n",
    "plt.plot(t2, f(t2), 'r--')\n",
    "\n",
    "plt.show()"
   ]
  },
  {
   "cell_type": "code",
   "execution_count": null,
   "metadata": {},
   "outputs": [],
   "source": [
    "# Building a complex figure with two subplots\n",
    "## Step 1: create figure\n",
    "plt.figure()\n",
    "\n",
    "## Step 2: create subplot 1\n",
    "plt.subplot(2, 1, 1)\n",
    "plt.plot(t1, f(t1), 'bo')\n",
    "\n",
    "## Step 3: create subplot 2\n",
    "plt.subplot(2, 1, 2)\n",
    "plt.plot(t2, f(t2), 'r--')\n",
    "\n",
    "plt.ylabel(\"ylabel\")   # which plot does this get added to?\n",
    "\n",
    "plt.show()"
   ]
  },
  {
   "cell_type": "code",
   "execution_count": null,
   "metadata": {
    "eid": "1f121dae"
   },
   "outputs": [],
   "source": [
    "# TASK --- Create a figure with two subplots\n",
    "x = np.arange(-np.pi, np.pi, 0.1)\n",
    "\n",
    "## ------- Your code here:\n"
   ]
  },
  {
   "cell_type": "markdown",
   "metadata": {},
   "source": [
    "# Object-oriented API"
   ]
  },
  {
   "cell_type": "code",
   "execution_count": null,
   "metadata": {},
   "outputs": [],
   "source": [
    "# Simulate some data\n",
    "x = np.linspace(-4, 4)\n",
    "y1 = x**2\n",
    "y2 = x**3"
   ]
  },
  {
   "cell_type": "code",
   "execution_count": null,
   "metadata": {},
   "outputs": [],
   "source": [
    "# Plot x, y1, y2 using object-oriented API\n",
    "fig, ax = plt.subplots()\n",
    "ax.plot(x, y1, 'r')\n",
    "ax.plot(x, y2, 'b')\n",
    "ax.set_title('Quadratic and Cubic Powers')\n",
    "ax.set_xlabel('x values')\n",
    "ax.set_ylabel('y values')\n",
    "\n",
    "plt.show()"
   ]
  },
  {
   "cell_type": "code",
   "execution_count": null,
   "metadata": {},
   "outputs": [],
   "source": [
    "# Plot x, y1, y2 using pyplot API\n",
    "plt.plot(x, y1, 'r', x, y2, 'b')\n",
    "plt.title('Quadratic and Cubic Powers')\n",
    "plt.xlabel('x values')\n",
    "plt.ylabel('y values')\n",
    "\n",
    "plt.show()"
   ]
  },
  {
   "cell_type": "code",
   "execution_count": null,
   "metadata": {},
   "outputs": [],
   "source": [
    "# Building a figure with four subplots\n",
    "## Step 1: create grid\n",
    "fig, axes = plt.subplots(nrows=2, ncols=2)\n",
    "print(axes.shape)"
   ]
  },
  {
   "cell_type": "code",
   "execution_count": null,
   "metadata": {},
   "outputs": [],
   "source": [
    "# Building a figure with four subplots\n",
    "## Step 1: create grid\n",
    "fig, axes = plt.subplots(nrows=2, ncols=2)\n",
    "\n",
    "## Step 2: set title for each subplot\n",
    "axes[0, 0].set_title('Upper Left')\n",
    "axes[0, 1].set_title('Upper Right')\n",
    "axes[1, 0].set_title('Lower Left')\n",
    "axes[1, 1].set_title('Lower Right')\n",
    "\n",
    "plt.show()"
   ]
  },
  {
   "cell_type": "code",
   "execution_count": null,
   "metadata": {},
   "outputs": [],
   "source": [
    "# Building a figure with four subplots\n",
    "## Step 1: create grid\n",
    "fig, axes = plt.subplots(nrows=2, ncols=2)\n",
    "\n",
    "## Step 2: set title for each subplot\n",
    "axes[0, 0].set_title('Upper Left')\n",
    "axes[0, 1].set_title('Upper Right')\n",
    "axes[1, 0].set_title('Lower Left')\n",
    "axes[1, 1].set_title('Lower Right')\n",
    "\n",
    "## Step 3: remove ticks from all subplots at once\n",
    "for ax in axes.flat:\n",
    "    ax.set(xticks=[], yticks=[])\n",
    "\n",
    "fig.tight_layout()\n",
    "plt.show()"
   ]
  },
  {
   "cell_type": "code",
   "execution_count": null,
   "metadata": {},
   "outputs": [],
   "source": [
    "# Building a figure with four subplots\n",
    "fig, axes = plt.subplots(nrows=2, ncols=2, figsize=(10, 5))\n",
    "\n",
    "axes[0, 0].set_title('Linear')\n",
    "axes[0, 0].plot(x, x)\n",
    "\n",
    "axes[0, 1].set_title('Quadratic')\n",
    "axes[0, 1].plot(x, x**2)\n",
    "\n",
    "axes[1, 0].set_title('Cubic')\n",
    "axes[1, 0].plot(x, x**3)\n",
    "\n",
    "axes[1, 1].set_title('4th Power')\n",
    "axes[1, 1].plot(x, x**4)\n",
    "\n",
    "for ax in axes.flat:\n",
    "    ax.set(xticks=[], yticks=[])\n",
    "\n",
    "fig.tight_layout()\n",
    "plt.show()"
   ]
  },
  {
   "cell_type": "code",
   "execution_count": null,
   "metadata": {},
   "outputs": [],
   "source": [
    "# A more elegant approach to builing figures with object-oriented API\n",
    "fig, axes = plt.subplots(nrows=2, ncols=5, figsize=(15, 5))   # create 2x5 grid \n",
    "for i, ax in enumerate(axes.flatten()):                       # for each subplot,\n",
    "    ax.set_title(f'x ** {i}')                                 #   set title to x**i (where i is the subplot number)\n",
    "    ax.plot(x, x**(i+1))                                      #   plot x**i\n",
    "\n",
    "fig.tight_layout()\n",
    "plt.show()"
   ]
  },
  {
   "cell_type": "code",
   "execution_count": null,
   "metadata": {
    "eid": "e17124e4"
   },
   "outputs": [],
   "source": [
    "# TASK --- Create a figure with two subplots\n",
    "x = np.arange(-np.pi, np.pi, 0.1)\n",
    "\n",
    "## ------- Your code here:\n"
   ]
  },
  {
   "cell_type": "markdown",
   "metadata": {},
   "source": [
    "# Customizations"
   ]
  },
  {
   "cell_type": "code",
   "execution_count": null,
   "metadata": {},
   "outputs": [],
   "source": [
    "# Generating data\n",
    "x = np.linspace(-np.pi, np.pi, 200)\n",
    "sine = np.sin(x)\n",
    "cosine = np.cos(x)"
   ]
  },
  {
   "cell_type": "code",
   "execution_count": null,
   "metadata": {},
   "outputs": [],
   "source": [
    "# Colors\n",
    "fig, ax = plt.subplots(figsize=(10,5))\n",
    "ax.plot(x, sine, color='r')                     # red\n",
    "ax.plot(x, cosine, color='#165181')             # blue\n",
    "ax.plot(x, x, color='0.75')                     # grey\n",
    "ax.plot(x, -x, color='Indigo')                  # indigo\n",
    "ax.plot(x, x**2, color=(0.4, 0.7, 0.3, 0.2))    # transparent green\n",
    "\n",
    "plt.show()"
   ]
  },
  {
   "cell_type": "code",
   "execution_count": null,
   "metadata": {},
   "outputs": [],
   "source": [
    "# Axis limits\n",
    "fig, ax = plt.subplots(figsize=(10,5))\n",
    "ax.plot(x, sine, color='r')\n",
    "ax.plot(x, cosine, color='#165181')\n",
    "\n",
    "ax.set_xlim(-5, 5)\n",
    "ax.set_ylim(-1.5, 1.5)\n",
    "\n",
    "plt.show()"
   ]
  },
  {
   "cell_type": "code",
   "execution_count": null,
   "metadata": {},
   "outputs": [],
   "source": [
    "# Tick marks\n",
    "fig, ax = plt.subplots(figsize=(10,5))\n",
    "ax.plot(x, sine, color='r')\n",
    "ax.plot(x, cosine, color='#165181')\n",
    "\n",
    "ax.set_xlim(-5, 5)\n",
    "ax.set_ylim(-1.5, 1.5)\n",
    "\n",
    "ax.set_xticks([-np.pi, -np.pi/2, 0, np.pi/2, np.pi])\n",
    "\n",
    "plt.show()"
   ]
  },
  {
   "cell_type": "code",
   "execution_count": null,
   "metadata": {},
   "outputs": [],
   "source": [
    "# Tick labels\n",
    "fig, ax = plt.subplots(figsize=(10,5))\n",
    "ax.plot(x, sine, color='r')\n",
    "ax.plot(x, cosine, color='#165181')\n",
    "\n",
    "ax.set_xlim(-5, 5)\n",
    "ax.set_ylim(-1.5, 1.5)\n",
    "\n",
    "ax.set_xticks([-np.pi, -np.pi/2, 0, np.pi/2, np.pi])\n",
    "ax.set_xticklabels([r'$-\\pi$', r'$-\\pi/2$', r'$0$', r'$\\pi/2$', r'$\\pi$'],\n",
    "                  size=17)\n",
    "\n",
    "plt.show()"
   ]
  },
  {
   "cell_type": "code",
   "execution_count": null,
   "metadata": {},
   "outputs": [],
   "source": [
    "# Legend\n",
    "fig, ax = plt.subplots(figsize=(10,5))\n",
    "ax.plot(x, sine, color='r', label='Sine')             # added label Sine\n",
    "ax.plot(x, cosine, color='#165181', label='Cosine')   # added label Cosine\n",
    "\n",
    "ax.set_xlim(-5, 5)\n",
    "ax.set_ylim(-1.5, 1.5)\n",
    "\n",
    "ax.set_xticks([-np.pi, -np.pi/2, 0, np.pi/2, np.pi])\n",
    "ax.set_xticklabels([r'$-\\pi$', r'$-\\pi/2$', r'$0$', r'$\\pi/2$', r'$\\pi$'],\n",
    "                  size=17)\n",
    "\n",
    "ax.legend(loc='upper left')\n",
    "\n",
    "plt.show()"
   ]
  },
  {
   "cell_type": "code",
   "execution_count": null,
   "metadata": {},
   "outputs": [],
   "source": [
    "# Annotation\n",
    "fig, ax = plt.subplots(figsize=(10,5))\n",
    "ax.plot(x, sine, color='r', label='Sine')\n",
    "ax.plot(x, cosine, color='#165181', label='Cosine')\n",
    "\n",
    "ax.set_xlim(-5, 5)\n",
    "ax.set_ylim(-1.5, 1.5)\n",
    "\n",
    "ax.set_xticks([-np.pi, -np.pi/2, 0, np.pi/2, np.pi])\n",
    "ax.set_xticklabels([r'$-\\pi$', r'$-\\pi/2$', r'$0$', r'$\\pi/2$', r'$\\pi$'],\n",
    "                  size=17)\n",
    "\n",
    "ax.legend(loc='upper left')\n",
    "\n",
    "## Text method\n",
    "ax.text(-0.25, 0, \"(0, 0)\")                         # label (0, 0)\n",
    "ax.text(np.pi - 0.25, 0, r'$(\\pi, 0)$', size=15)    # label (pi, 0)\n",
    "\n",
    "plt.show()"
   ]
  },
  {
   "cell_type": "code",
   "execution_count": null,
   "metadata": {},
   "outputs": [],
   "source": [
    "# Annotation\n",
    "fig, ax = plt.subplots(figsize=(10,5))\n",
    "ax.plot(x, sine, color='r', label='Sine')\n",
    "ax.plot(x, cosine, color='#165181', label='Cosine')\n",
    "\n",
    "ax.set_xlim(-5, 5)\n",
    "ax.set_ylim(-1.5, 1.5)\n",
    "\n",
    "ax.set_xticks([-np.pi, -np.pi/2, 0, np.pi/2, np.pi])\n",
    "ax.set_xticklabels([r'$-\\pi$', r'$-\\pi/2$', r'$0$', r'$\\pi/2$', r'$\\pi$'],\n",
    "                  size=17)\n",
    "\n",
    "ax.legend(loc='upper left')\n",
    "\n",
    "ax.text(-0.25, 0, \"(0, 0)\")                       # label (0, 0)\n",
    "ax.text(np.pi - 0.25, 0, r'$(\\pi, 0)$', size=15)  # label (pi, 0)\n",
    "\n",
    "## Annotate method\n",
    "ax.annotate('Origin',                             # text\n",
    "            xy=(0, 0),                            # arrow point\n",
    "            xytext=(1, -0.7),                     # locaton of text\n",
    "            arrowprops=dict(facecolor='blue'))    # makes arrow blue\n",
    "\n",
    "plt.show()"
   ]
  },
  {
   "cell_type": "code",
   "execution_count": null,
   "metadata": {},
   "outputs": [],
   "source": [
    "# Grids and lines\n",
    "fig, ax = plt.subplots(figsize=(10,5))\n",
    "ax.plot(x, sine, color='r', label='Sine')\n",
    "ax.plot(x, cosine, color='#165181', label='Cosine')\n",
    "\n",
    "ax.set_xlim(-5, 5)\n",
    "ax.set_ylim(-1.5, 1.5)\n",
    "\n",
    "ax.set_xticks([-np.pi, -np.pi/2, 0, np.pi/2, np.pi])\n",
    "ax.set_xticklabels([r'$-\\pi$', r'$-\\pi/2$', r'$0$', r'$\\pi/2$', r'$\\pi$'],\n",
    "                  size=17)\n",
    "\n",
    "ax.legend(loc='upper left')\n",
    "\n",
    "ax.text(-0.25, 0, \"(0, 0)\")\n",
    "ax.text(np.pi - 0.25, 0, r'$(\\pi, 0)$', size=15)\n",
    "\n",
    "ax.annotate('Origin',\n",
    "            xy=(0, 0),\n",
    "            xytext=(1, -0.7),\n",
    "            arrowprops=dict(facecolor='blue'))\n",
    "\n",
    "ax.axhline(0, color='black', alpha=0.9)   # horizontal line at x=0\n",
    "ax.axvline(0, color='black', alpha=0.9)   # vertical line at y=0\n",
    "ax.grid()                                 # shows grid\n",
    "\n",
    "plt.show()"
   ]
  },
  {
   "cell_type": "code",
   "execution_count": null,
   "metadata": {
    "eid": "d0e4efca"
   },
   "outputs": [],
   "source": [
    "# TASK --- Customize plots\n",
    "## ------- Import data\n",
    "import pandas as pd\n",
    "data = pd.read_csv('HR-Employee-Attrition.csv')\n",
    "grouped_age = data.groupby(data['Age'])\n",
    "age = np.fromiter(grouped_age.groups.keys(), dtype=int)\n",
    "hourly_rate = np.array(grouped_age['HourlyRate'].mean())\n",
    "job_satisfaction = np.array(grouped_age['JobSatisfaction'].mean())\n",
    "\n",
    "## ------- Create figure and ax objects\n",
    "fig, axes = plt.subplots(nrows=2, ncols=1,   # 2x1 grid\n",
    "                         figsize=(15, 10),\n",
    "                         sharex=True)\n",
    "\n",
    "## ------- Plot hourly rate and job satisfaction against age\n",
    "axes[0].plot(age, hourly_rate)\n",
    "axes[1].plot(age, job_satisfaction)\n",
    "\n",
    "## ------- Your plot customization code here:\n"
   ]
  }
 ],
 "metadata": {
  "kernelspec": {
   "display_name": "Python 3",
   "language": "python",
   "name": "python3"
  },
  "language_info": {
   "codemirror_mode": {
    "name": "ipython",
    "version": 3
   },
   "file_extension": ".py",
   "mimetype": "text/x-python",
   "name": "python",
   "nbconvert_exporter": "python",
   "pygments_lexer": "ipython3",
   "version": "3.6.6"
  }
 },
 "nbformat": 4,
 "nbformat_minor": 2
}
