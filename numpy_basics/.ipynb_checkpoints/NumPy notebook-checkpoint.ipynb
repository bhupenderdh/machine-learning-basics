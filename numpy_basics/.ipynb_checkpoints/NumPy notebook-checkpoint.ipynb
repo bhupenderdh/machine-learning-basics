{
 "cells": [
  {
   "cell_type": "markdown",
   "metadata": {},
   "source": [
    "# Why `NumPy`?"
   ]
  },
  {
   "cell_type": "code",
   "execution_count": 2,
   "metadata": {},
   "outputs": [
    {
     "data": {
      "application/javascript": [
       "IPython.notebook.set_autosave_interval(5000)"
      ]
     },
     "metadata": {},
     "output_type": "display_data"
    },
    {
     "name": "stdout",
     "output_type": "stream",
     "text": [
      "Autosaving every 5 seconds\n"
     ]
    }
   ],
   "source": [
    "# Run this Jupyter magic function to start - this autosaves your notebook every 5 seconds\n",
    "%autosave 5"
   ]
  },
  {
   "cell_type": "code",
   "execution_count": null,
   "metadata": {},
   "outputs": [],
   "source": [
    "# Create two lists, distances and times\n",
    "distances = [10, 15, 17, 26, 20]\n",
    "times = [0.3, 0.47, 0.55, 1.20, 1.0]\n",
    "\n",
    "# Calculate speeds with Python\n",
    "speeds = []\n",
    "for i in range(len(distances)):\n",
    "    speeds.append(distances[i] / times[i])\n",
    "\n",
    "speeds"
   ]
  },
  {
   "cell_type": "code",
   "execution_count": null,
   "metadata": {},
   "outputs": [],
   "source": [
    "# Calculate speeds with Python list comprehension\n",
    "[d / t for d, t in zip(distances, times)] "
   ]
  },
  {
   "cell_type": "code",
   "execution_count": null,
   "metadata": {
    "eid": "a5d3a152"
   },
   "outputs": [],
   "source": [
    "# TASK --- Divide `distances` by `times` to see an error message\n"
   ]
  },
  {
   "cell_type": "markdown",
   "metadata": {},
   "source": [
    "# `Numpy` Arrays"
   ]
  },
  {
   "cell_type": "code",
   "execution_count": null,
   "metadata": {},
   "outputs": [],
   "source": [
    "import numpy as np"
   ]
  },
  {
   "cell_type": "markdown",
   "metadata": {},
   "source": [
    "## Creating arrays in  `NumPy`\n",
    "### Creating arrays from lists"
   ]
  },
  {
   "cell_type": "code",
   "execution_count": null,
   "metadata": {},
   "outputs": [],
   "source": [
    "# Transform `distances` list to array\n",
    "distances = np.array(distances)\n",
    "distances"
   ]
  },
  {
   "cell_type": "code",
   "execution_count": null,
   "metadata": {},
   "outputs": [],
   "source": [
    "# Transform `times` list to array\n",
    "times = np.array(times)\n",
    "times"
   ]
  },
  {
   "cell_type": "code",
   "execution_count": null,
   "metadata": {},
   "outputs": [],
   "source": [
    "# Find the type of array\n",
    "type(distances)"
   ]
  },
  {
   "cell_type": "code",
   "execution_count": null,
   "metadata": {},
   "outputs": [],
   "source": [
    "# Create two dimensional array\n",
    "A = np.array([[1, 2], [3, 4]])\n",
    "A"
   ]
  },
  {
   "cell_type": "markdown",
   "metadata": {},
   "source": [
    "### Creating arrays from built-in `NumPy` functions"
   ]
  },
  {
   "cell_type": "code",
   "execution_count": null,
   "metadata": {},
   "outputs": [],
   "source": [
    "# Create array of zeros\n",
    "np.zeros(10, dtype=int)"
   ]
  },
  {
   "cell_type": "code",
   "execution_count": null,
   "metadata": {},
   "outputs": [],
   "source": [
    "# Create array of ones\n",
    "np.ones(shape=(3, 5), dtype=float)"
   ]
  },
  {
   "cell_type": "code",
   "execution_count": null,
   "metadata": {},
   "outputs": [],
   "source": [
    "# Create array with linear sequence using `arange`\n",
    "np.arange(start=0, stop=20, step=2)"
   ]
  },
  {
   "cell_type": "code",
   "execution_count": null,
   "metadata": {},
   "outputs": [],
   "source": [
    "# Create array with linear sequence using `linspace`\n",
    "np.linspace(0, 1, 20)"
   ]
  },
  {
   "cell_type": "markdown",
   "metadata": {},
   "source": [
    "## Attributes of arrays"
   ]
  },
  {
   "cell_type": "code",
   "execution_count": null,
   "metadata": {
    "eid": "c2d89e0b"
   },
   "outputs": [],
   "source": [
    "# TASK --- Create a 3x4 matrix of 1s of float type called M\n"
   ]
  },
  {
   "cell_type": "code",
   "execution_count": null,
   "metadata": {},
   "outputs": [],
   "source": [
    "# Find dimensions of matrix M\n",
    "M.ndim"
   ]
  },
  {
   "cell_type": "code",
   "execution_count": null,
   "metadata": {},
   "outputs": [],
   "source": [
    "# Find shape of matrix M\n",
    "M.shape"
   ]
  },
  {
   "cell_type": "code",
   "execution_count": null,
   "metadata": {},
   "outputs": [],
   "source": [
    "# Find size of matrix M\n",
    "M.size"
   ]
  },
  {
   "cell_type": "markdown",
   "metadata": {},
   "source": [
    "# Working With Arrays\n",
    "## Vectorized operations with arrays"
   ]
  },
  {
   "cell_type": "code",
   "execution_count": null,
   "metadata": {},
   "outputs": [],
   "source": [
    "# Create vector x\n",
    "x = np.arange(0, 20, 2)\n",
    "print(x)\n",
    "\n",
    "# Perform addition on vector x\n",
    "print('Addition: ', x + 1)"
   ]
  },
  {
   "cell_type": "code",
   "execution_count": null,
   "metadata": {},
   "outputs": [],
   "source": [
    "# Perform subtraction on vector\n",
    "print('Subtraction: ', x - 3)\n",
    "\n",
    "# Perform multiplication on vector\n",
    "print('Multiplication: ', x * 2)\n",
    "\n",
    "# Perform division on vector\n",
    "print('Division: ', x / 10)"
   ]
  },
  {
   "cell_type": "code",
   "execution_count": null,
   "metadata": {
    "eid": "a35985a0"
   },
   "outputs": [],
   "source": [
    "# TASK --- Calculate speeds using array division\n"
   ]
  },
  {
   "cell_type": "markdown",
   "metadata": {},
   "source": [
    "## Universal functions with arrays"
   ]
  },
  {
   "cell_type": "code",
   "execution_count": null,
   "metadata": {},
   "outputs": [],
   "source": [
    "# Perform univeral functions on vector x\n",
    "np.sin(x)"
   ]
  },
  {
   "cell_type": "code",
   "execution_count": null,
   "metadata": {},
   "outputs": [],
   "source": [
    "# Perform univeral functions on vector x\n",
    "np.exp(x)"
   ]
  },
  {
   "cell_type": "code",
   "execution_count": null,
   "metadata": {
    "eid": "9fc488f5"
   },
   "outputs": [],
   "source": [
    "# TASK --- Calculate the square root of the natural logarithm for the values of `x + 1`\n"
   ]
  },
  {
   "cell_type": "markdown",
   "metadata": {},
   "source": [
    "## Common manipulations with arrays\n",
    "### Indexing"
   ]
  },
  {
   "cell_type": "code",
   "execution_count": null,
   "metadata": {},
   "outputs": [],
   "source": [
    "# Create one-dimensional array\n",
    "one_dim = np.linspace(-0.5, 0.6, 12)\n",
    "one_dim"
   ]
  },
  {
   "cell_type": "code",
   "execution_count": null,
   "metadata": {},
   "outputs": [],
   "source": [
    "# Access first element of one_dim\n",
    "one_dim[0]"
   ]
  },
  {
   "cell_type": "code",
   "execution_count": null,
   "metadata": {},
   "outputs": [],
   "source": [
    "# Change the first element of one_dim\n",
    "one_dim[0] = 1\n",
    "one_dim"
   ]
  },
  {
   "cell_type": "code",
   "execution_count": null,
   "metadata": {},
   "outputs": [],
   "source": [
    "# Create two-dimensional array\n",
    "two_dim = np.array([[3, 5, 2, 4], [7, 6, 5, 5], [1, 6, -1, -1]])\n",
    "two_dim"
   ]
  },
  {
   "cell_type": "code",
   "execution_count": null,
   "metadata": {},
   "outputs": [],
   "source": [
    "# Access the fourth element of the first row of two_dim\n",
    "two_dim[0, 3]"
   ]
  },
  {
   "cell_type": "code",
   "execution_count": null,
   "metadata": {
    "eid": "fbfc9c69"
   },
   "outputs": [],
   "source": [
    "# TASK --- Change the value of the first element in the first rows of two_dim to -1\n"
   ]
  },
  {
   "cell_type": "markdown",
   "metadata": {},
   "source": [
    "### Slicing"
   ]
  },
  {
   "cell_type": "code",
   "execution_count": null,
   "metadata": {},
   "outputs": [],
   "source": [
    "# Access the first five elements of one_dim\n",
    "one_dim[0:5]"
   ]
  },
  {
   "cell_type": "code",
   "execution_count": null,
   "metadata": {},
   "outputs": [],
   "source": [
    "# Access the last five elements of one_dim\n",
    "one_dim[-5:]"
   ]
  },
  {
   "cell_type": "code",
   "execution_count": null,
   "metadata": {},
   "outputs": [],
   "source": [
    "# Access the first two elements in the first two rows of two_dim\n",
    "two_dim[:2, :2]"
   ]
  },
  {
   "cell_type": "code",
   "execution_count": null,
   "metadata": {},
   "outputs": [],
   "source": [
    "# Access the second and third elements in all rows of two_dim\n",
    "two_dim[:, 1:3]"
   ]
  },
  {
   "cell_type": "code",
   "execution_count": null,
   "metadata": {
    "eid": "17b57f05"
   },
   "outputs": [],
   "source": [
    "# TASK --- Change all the values of the first two elements of all columns of two_dim to zero\n"
   ]
  },
  {
   "cell_type": "markdown",
   "metadata": {},
   "source": [
    "### Reshaping"
   ]
  },
  {
   "cell_type": "code",
   "execution_count": null,
   "metadata": {},
   "outputs": [],
   "source": [
    "# Reshape one_dim to two-dimensional 4x3 matrix\n",
    "one_dim = one_dim.reshape(4, 3)\n",
    "one_dim"
   ]
  },
  {
   "cell_type": "code",
   "execution_count": null,
   "metadata": {},
   "outputs": [],
   "source": [
    "# Flatten two_dim to vector\n",
    "two_dim = two_dim.flatten()\n",
    "two_dim"
   ]
  },
  {
   "cell_type": "code",
   "execution_count": null,
   "metadata": {
    "eid": "d17f57ef"
   },
   "outputs": [],
   "source": [
    "# TASK --- Print the shape of two_dim\n"
   ]
  },
  {
   "cell_type": "code",
   "execution_count": null,
   "metadata": {
    "eid": "8889ebf8"
   },
   "outputs": [],
   "source": [
    "# TASK --- Reshape two_dim to be a 2x6 matrix\n"
   ]
  },
  {
   "cell_type": "markdown",
   "metadata": {},
   "source": [
    "# Using `NumPy` for Simulations\n",
    "## Coin toss"
   ]
  },
  {
   "cell_type": "code",
   "execution_count": null,
   "metadata": {},
   "outputs": [],
   "source": [
    "# Simulate a coin toss with one coin\n",
    "np.random.randint(low=0, high=2, size=1)"
   ]
  },
  {
   "cell_type": "code",
   "execution_count": null,
   "metadata": {},
   "outputs": [],
   "source": [
    "# Simulate a coin toss with 10 coins and count number of `heads`\n",
    "experiment = np.random.randint(0, 2, 10)\n",
    "print(experiment)\n",
    "print('Number of heads: ', experiment.sum())"
   ]
  },
  {
   "cell_type": "code",
   "execution_count": null,
   "metadata": {},
   "outputs": [],
   "source": [
    "# Simulate 10000 experiments\n",
    "coin_matrix = np.random.randint(0, 2, (10000, 10))\n",
    "coin_matrix[:5]"
   ]
  },
  {
   "cell_type": "code",
   "execution_count": null,
   "metadata": {},
   "outputs": [],
   "source": [
    "# Count number of `heads` in each experiment\n",
    "heads = coin_matrix.sum(axis=1)\n",
    "heads"
   ]
  },
  {
   "cell_type": "code",
   "execution_count": null,
   "metadata": {},
   "outputs": [],
   "source": [
    "# Count number of `heads` in all experiments\n",
    "heads_all = coin_matrix.sum()\n",
    "heads_all"
   ]
  },
  {
   "cell_type": "code",
   "execution_count": null,
   "metadata": {},
   "outputs": [],
   "source": [
    "# Find the mean number of `heads` over all experiment\n",
    "np.mean(heads)"
   ]
  },
  {
   "cell_type": "code",
   "execution_count": null,
   "metadata": {},
   "outputs": [],
   "source": [
    "# Find the median number of `heads` over all experiments\n",
    "print('Median: ', np.median(heads))\n",
    "# Find the minimum number of `heads` over all experiments\n",
    "print('Minimum: ', np.min(heads))\n",
    "# Find the maximum number of `heads` over all experiments\n",
    "print('Maximum: ', np.max(heads))\n",
    "# Find the standard deviation of `heads` over all experiments\n",
    "print('Standard deviation: ', np.std(heads))"
   ]
  },
  {
   "cell_type": "code",
   "execution_count": null,
   "metadata": {},
   "outputs": [],
   "source": [
    "# Find the distribution of the number of `heads` over all experiments \n",
    "np.bincount(heads)"
   ]
  },
  {
   "cell_type": "markdown",
   "metadata": {},
   "source": [
    "## Simulating stock returns"
   ]
  },
  {
   "cell_type": "code",
   "execution_count": null,
   "metadata": {
    "scrolled": true
   },
   "outputs": [],
   "source": [
    "# Simulate stock returns\n",
    "returns = np.random.normal(0.001, 0.02, 250)\n",
    "returns"
   ]
  },
  {
   "cell_type": "code",
   "execution_count": null,
   "metadata": {},
   "outputs": [],
   "source": [
    "# Calculate prices for each day in the trading year, starting from an initial price of 100\n",
    "initial_price = 100\n",
    "price = initial_price * np.exp(returns.cumsum())"
   ]
  },
  {
   "cell_type": "code",
   "execution_count": null,
   "metadata": {},
   "outputs": [],
   "source": [
    "# Plot prices using matplotlib\n",
    "import matplotlib.pyplot as plt\n",
    "%matplotlib inline\n",
    "plt.plot(price);"
   ]
  },
  {
   "cell_type": "code",
   "execution_count": null,
   "metadata": {
    "eid": "cc13c3fd"
   },
   "outputs": [],
   "source": [
    "# TASK --- Find the mean price\n"
   ]
  },
  {
   "cell_type": "code",
   "execution_count": null,
   "metadata": {
    "eid": "e01eceaa"
   },
   "outputs": [],
   "source": [
    "# TASK --- Find the maximum price\n"
   ]
  },
  {
   "cell_type": "code",
   "execution_count": null,
   "metadata": {
    "eid": "72d90917"
   },
   "outputs": [],
   "source": [
    "# TASK --- Find the minimum price\n"
   ]
  }
 ],
 "metadata": {
  "kernelspec": {
   "display_name": "Python 3",
   "language": "python",
   "name": "python3"
  },
  "language_info": {
   "codemirror_mode": {
    "name": "ipython",
    "version": 3
   },
   "file_extension": ".py",
   "mimetype": "text/x-python",
   "name": "python",
   "nbconvert_exporter": "python",
   "pygments_lexer": "ipython3",
   "version": "3.7.4"
  }
 },
 "nbformat": 4,
 "nbformat_minor": 2
}
