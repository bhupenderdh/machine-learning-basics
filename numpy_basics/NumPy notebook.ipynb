{
 "cells": [
  {
   "cell_type": "markdown",
   "metadata": {},
   "source": [
    "# Why `NumPy`?"
   ]
  },
  {
   "cell_type": "code",
   "execution_count": 2,
   "metadata": {},
   "outputs": [
    {
     "data": {
      "application/javascript": [
       "IPython.notebook.set_autosave_interval(5000)"
      ]
     },
     "metadata": {},
     "output_type": "display_data"
    },
    {
     "name": "stdout",
     "output_type": "stream",
     "text": [
      "Autosaving every 5 seconds\n"
     ]
    }
   ],
   "source": [
    "# Run this Jupyter magic function to start - this autosaves your notebook every 5 seconds\n",
    "%autosave 5"
   ]
  },
  {
   "cell_type": "code",
   "execution_count": 3,
   "metadata": {},
   "outputs": [
    {
     "data": {
      "text/plain": [
       "[33.333333333333336,\n",
       " 31.914893617021278,\n",
       " 30.909090909090907,\n",
       " 21.666666666666668,\n",
       " 20.0]"
      ]
     },
     "execution_count": 3,
     "metadata": {},
     "output_type": "execute_result"
    }
   ],
   "source": [
    "# Create two lists, distances and times\n",
    "distances = [10, 15, 17, 26, 20]\n",
    "times = [0.3, 0.47, 0.55, 1.20, 1.0]\n",
    "\n",
    "# Calculate speeds with Python\n",
    "speeds = []\n",
    "for i in range(len(distances)):\n",
    "    speeds.append(distances[i] / times[i])\n",
    "\n",
    "speeds"
   ]
  },
  {
   "cell_type": "code",
   "execution_count": 4,
   "metadata": {},
   "outputs": [
    {
     "data": {
      "text/plain": [
       "[33.333333333333336,\n",
       " 31.914893617021278,\n",
       " 30.909090909090907,\n",
       " 21.666666666666668,\n",
       " 20.0]"
      ]
     },
     "execution_count": 4,
     "metadata": {},
     "output_type": "execute_result"
    }
   ],
   "source": [
    "# Calculate speeds with Python list comprehension\n",
    "[d / t for d, t in zip(distances, times)] "
   ]
  },
  {
   "cell_type": "code",
   "execution_count": null,
   "metadata": {
    "eid": "a5d3a152"
   },
   "outputs": [],
   "source": [
    "# TASK --- Divide `distances` by `times` to see an error message\n"
   ]
  },
  {
   "cell_type": "markdown",
   "metadata": {},
   "source": [
    "# `Numpy` Arrays"
   ]
  },
  {
   "cell_type": "code",
   "execution_count": 5,
   "metadata": {},
   "outputs": [],
   "source": [
    "import numpy as np"
   ]
  },
  {
   "cell_type": "markdown",
   "metadata": {},
   "source": [
    "## Creating arrays in  `NumPy`\n",
    "### Creating arrays from lists"
   ]
  },
  {
   "cell_type": "code",
   "execution_count": 6,
   "metadata": {},
   "outputs": [
    {
     "data": {
      "text/plain": [
       "array([10, 15, 17, 26, 20])"
      ]
     },
     "execution_count": 6,
     "metadata": {},
     "output_type": "execute_result"
    }
   ],
   "source": [
    "# Transform `distances` list to array\n",
    "distances = np.array(distances)\n",
    "distances"
   ]
  },
  {
   "cell_type": "code",
   "execution_count": 7,
   "metadata": {},
   "outputs": [
    {
     "data": {
      "text/plain": [
       "array([0.3 , 0.47, 0.55, 1.2 , 1.  ])"
      ]
     },
     "execution_count": 7,
     "metadata": {},
     "output_type": "execute_result"
    }
   ],
   "source": [
    "# Transform `times` list to array\n",
    "times = np.array(times)\n",
    "times"
   ]
  },
  {
   "cell_type": "code",
   "execution_count": 8,
   "metadata": {},
   "outputs": [
    {
     "data": {
      "text/plain": [
       "numpy.ndarray"
      ]
     },
     "execution_count": 8,
     "metadata": {},
     "output_type": "execute_result"
    }
   ],
   "source": [
    "# Find the type of array\n",
    "type(distances)"
   ]
  },
  {
   "cell_type": "code",
   "execution_count": 9,
   "metadata": {},
   "outputs": [
    {
     "data": {
      "text/plain": [
       "array([[1, 2],\n",
       "       [3, 4]])"
      ]
     },
     "execution_count": 9,
     "metadata": {},
     "output_type": "execute_result"
    }
   ],
   "source": [
    "# Create two dimensional array\n",
    "A = np.array([[1, 2], [3, 4]])\n",
    "A"
   ]
  },
  {
   "cell_type": "markdown",
   "metadata": {},
   "source": [
    "### Creating arrays from built-in `NumPy` functions"
   ]
  },
  {
   "cell_type": "code",
   "execution_count": 10,
   "metadata": {},
   "outputs": [
    {
     "data": {
      "text/plain": [
       "array([0, 0, 0, 0, 0, 0, 0, 0, 0, 0])"
      ]
     },
     "execution_count": 10,
     "metadata": {},
     "output_type": "execute_result"
    }
   ],
   "source": [
    "# Create array of zeros\n",
    "np.zeros(10, dtype=int)"
   ]
  },
  {
   "cell_type": "code",
   "execution_count": 11,
   "metadata": {},
   "outputs": [
    {
     "data": {
      "text/plain": [
       "array([[1., 1., 1., 1., 1.],\n",
       "       [1., 1., 1., 1., 1.],\n",
       "       [1., 1., 1., 1., 1.]])"
      ]
     },
     "execution_count": 11,
     "metadata": {},
     "output_type": "execute_result"
    }
   ],
   "source": [
    "# Create array of ones\n",
    "np.ones(shape=(3, 5), dtype=float)"
   ]
  },
  {
   "cell_type": "code",
   "execution_count": 12,
   "metadata": {},
   "outputs": [
    {
     "data": {
      "text/plain": [
       "array([ 0,  2,  4,  6,  8, 10, 12, 14, 16, 18])"
      ]
     },
     "execution_count": 12,
     "metadata": {},
     "output_type": "execute_result"
    }
   ],
   "source": [
    "# Create array with linear sequence using `arange`\n",
    "np.arange(start=0, stop=20, step=2)"
   ]
  },
  {
   "cell_type": "code",
   "execution_count": 13,
   "metadata": {},
   "outputs": [
    {
     "data": {
      "text/plain": [
       "array([0.        , 0.05263158, 0.10526316, 0.15789474, 0.21052632,\n",
       "       0.26315789, 0.31578947, 0.36842105, 0.42105263, 0.47368421,\n",
       "       0.52631579, 0.57894737, 0.63157895, 0.68421053, 0.73684211,\n",
       "       0.78947368, 0.84210526, 0.89473684, 0.94736842, 1.        ])"
      ]
     },
     "execution_count": 13,
     "metadata": {},
     "output_type": "execute_result"
    }
   ],
   "source": [
    "# Create array with linear sequence using `linspace`\n",
    "np.linspace(0, 1, 20)"
   ]
  },
  {
   "cell_type": "markdown",
   "metadata": {},
   "source": [
    "## Attributes of arrays"
   ]
  },
  {
   "cell_type": "code",
   "execution_count": 14,
   "metadata": {
    "eid": "c2d89e0b"
   },
   "outputs": [],
   "source": [
    "# TASK --- Create a 3x4 matrix of 1s of float type called M\n"
   ]
  },
  {
   "cell_type": "code",
   "execution_count": 15,
   "metadata": {},
   "outputs": [
    {
     "ename": "NameError",
     "evalue": "name 'M' is not defined",
     "output_type": "error",
     "traceback": [
      "\u001b[1;31m---------------------------------------------------------------------------\u001b[0m",
      "\u001b[1;31mNameError\u001b[0m                                 Traceback (most recent call last)",
      "\u001b[1;32m<ipython-input-15-82c0416156f0>\u001b[0m in \u001b[0;36m<module>\u001b[1;34m\u001b[0m\n\u001b[0;32m      1\u001b[0m \u001b[1;31m# Find dimensions of matrix M\u001b[0m\u001b[1;33m\u001b[0m\u001b[1;33m\u001b[0m\u001b[1;33m\u001b[0m\u001b[0m\n\u001b[1;32m----> 2\u001b[1;33m \u001b[0mM\u001b[0m\u001b[1;33m.\u001b[0m\u001b[0mndim\u001b[0m\u001b[1;33m\u001b[0m\u001b[1;33m\u001b[0m\u001b[0m\n\u001b[0m",
      "\u001b[1;31mNameError\u001b[0m: name 'M' is not defined"
     ]
    }
   ],
   "source": [
    "# Find dimensions of matrix M\n",
    "M.ndim"
   ]
  },
  {
   "cell_type": "code",
   "execution_count": null,
   "metadata": {},
   "outputs": [],
   "source": [
    "# Find shape of matrix M\n",
    "M.shape"
   ]
  },
  {
   "cell_type": "code",
   "execution_count": null,
   "metadata": {},
   "outputs": [],
   "source": [
    "# Find size of matrix M\n",
    "M.size"
   ]
  },
  {
   "cell_type": "markdown",
   "metadata": {},
   "source": [
    "# Working With Arrays\n",
    "## Vectorized operations with arrays"
   ]
  },
  {
   "cell_type": "code",
   "execution_count": 16,
   "metadata": {},
   "outputs": [
    {
     "name": "stdout",
     "output_type": "stream",
     "text": [
      "[ 0  2  4  6  8 10 12 14 16 18]\n",
      "Addition:  [ 1  3  5  7  9 11 13 15 17 19]\n"
     ]
    }
   ],
   "source": [
    "# Create vector x\n",
    "x = np.arange(0, 20, 2)\n",
    "print(x)\n",
    "\n",
    "# Perform addition on vector x\n",
    "print('Addition: ', x + 1)"
   ]
  },
  {
   "cell_type": "code",
   "execution_count": 17,
   "metadata": {},
   "outputs": [
    {
     "name": "stdout",
     "output_type": "stream",
     "text": [
      "Subtraction:  [-3 -1  1  3  5  7  9 11 13 15]\n",
      "Multiplication:  [ 0  4  8 12 16 20 24 28 32 36]\n",
      "Division:  [0.  0.2 0.4 0.6 0.8 1.  1.2 1.4 1.6 1.8]\n"
     ]
    }
   ],
   "source": [
    "# Perform subtraction on vector\n",
    "print('Subtraction: ', x - 3)\n",
    "\n",
    "# Perform multiplication on vector\n",
    "print('Multiplication: ', x * 2)\n",
    "\n",
    "# Perform division on vector\n",
    "print('Division: ', x / 10)"
   ]
  },
  {
   "cell_type": "code",
   "execution_count": null,
   "metadata": {
    "eid": "a35985a0"
   },
   "outputs": [],
   "source": [
    "# TASK --- Calculate speeds using array division\n"
   ]
  },
  {
   "cell_type": "markdown",
   "metadata": {},
   "source": [
    "## Universal functions with arrays"
   ]
  },
  {
   "cell_type": "code",
   "execution_count": 18,
   "metadata": {},
   "outputs": [
    {
     "data": {
      "text/plain": [
       "array([ 0.        ,  0.90929743, -0.7568025 , -0.2794155 ,  0.98935825,\n",
       "       -0.54402111, -0.53657292,  0.99060736, -0.28790332, -0.75098725])"
      ]
     },
     "execution_count": 18,
     "metadata": {},
     "output_type": "execute_result"
    }
   ],
   "source": [
    "# Perform univeral functions on vector x\n",
    "np.sin(x)"
   ]
  },
  {
   "cell_type": "code",
   "execution_count": 19,
   "metadata": {},
   "outputs": [
    {
     "data": {
      "text/plain": [
       "array([1.00000000e+00, 7.38905610e+00, 5.45981500e+01, 4.03428793e+02,\n",
       "       2.98095799e+03, 2.20264658e+04, 1.62754791e+05, 1.20260428e+06,\n",
       "       8.88611052e+06, 6.56599691e+07])"
      ]
     },
     "execution_count": 19,
     "metadata": {},
     "output_type": "execute_result"
    }
   ],
   "source": [
    "# Perform univeral functions on vector x\n",
    "np.exp(x)"
   ]
  },
  {
   "cell_type": "code",
   "execution_count": null,
   "metadata": {
    "eid": "9fc488f5"
   },
   "outputs": [],
   "source": [
    "# TASK --- Calculate the square root of the natural logarithm for the values of `x + 1`\n"
   ]
  },
  {
   "cell_type": "markdown",
   "metadata": {},
   "source": [
    "## Common manipulations with arrays\n",
    "### Indexing"
   ]
  },
  {
   "cell_type": "code",
   "execution_count": 20,
   "metadata": {},
   "outputs": [
    {
     "data": {
      "text/plain": [
       "array([-0.5, -0.4, -0.3, -0.2, -0.1,  0. ,  0.1,  0.2,  0.3,  0.4,  0.5,\n",
       "        0.6])"
      ]
     },
     "execution_count": 20,
     "metadata": {},
     "output_type": "execute_result"
    }
   ],
   "source": [
    "# Create one-dimensional array\n",
    "one_dim = np.linspace(-0.5, 0.6, 12)\n",
    "one_dim"
   ]
  },
  {
   "cell_type": "code",
   "execution_count": 21,
   "metadata": {},
   "outputs": [
    {
     "data": {
      "text/plain": [
       "-0.5"
      ]
     },
     "execution_count": 21,
     "metadata": {},
     "output_type": "execute_result"
    }
   ],
   "source": [
    "# Access first element of one_dim\n",
    "one_dim[0]"
   ]
  },
  {
   "cell_type": "code",
   "execution_count": 22,
   "metadata": {},
   "outputs": [
    {
     "data": {
      "text/plain": [
       "array([ 1. , -0.4, -0.3, -0.2, -0.1,  0. ,  0.1,  0.2,  0.3,  0.4,  0.5,\n",
       "        0.6])"
      ]
     },
     "execution_count": 22,
     "metadata": {},
     "output_type": "execute_result"
    }
   ],
   "source": [
    "# Change the first element of one_dim\n",
    "one_dim[0] = 1\n",
    "one_dim"
   ]
  },
  {
   "cell_type": "code",
   "execution_count": 23,
   "metadata": {},
   "outputs": [
    {
     "data": {
      "text/plain": [
       "array([[ 3,  5,  2,  4],\n",
       "       [ 7,  6,  5,  5],\n",
       "       [ 1,  6, -1, -1]])"
      ]
     },
     "execution_count": 23,
     "metadata": {},
     "output_type": "execute_result"
    }
   ],
   "source": [
    "# Create two-dimensional array\n",
    "two_dim = np.array([[3, 5, 2, 4], [7, 6, 5, 5], [1, 6, -1, -1]])\n",
    "two_dim"
   ]
  },
  {
   "cell_type": "code",
   "execution_count": 27,
   "metadata": {},
   "outputs": [
    {
     "data": {
      "text/plain": [
       "4"
      ]
     },
     "execution_count": 27,
     "metadata": {},
     "output_type": "execute_result"
    }
   ],
   "source": [
    "# Access the fourth element of the first row of two_dim\n",
    "two_dim[0, 3]"
   ]
  },
  {
   "cell_type": "code",
   "execution_count": null,
   "metadata": {
    "eid": "fbfc9c69"
   },
   "outputs": [],
   "source": [
    "# TASK --- Change the value of the first element in the first rows of two_dim to -1\n"
   ]
  },
  {
   "cell_type": "markdown",
   "metadata": {},
   "source": [
    "### Slicing"
   ]
  },
  {
   "cell_type": "code",
   "execution_count": 31,
   "metadata": {},
   "outputs": [
    {
     "data": {
      "text/plain": [
       "array([ 1. , -0.4, -0.3, -0.2, -0.1])"
      ]
     },
     "execution_count": 31,
     "metadata": {},
     "output_type": "execute_result"
    }
   ],
   "source": [
    "# Access the first five elements of one_dim\n",
    "one_dim[0:5]"
   ]
  },
  {
   "cell_type": "code",
   "execution_count": 32,
   "metadata": {},
   "outputs": [
    {
     "data": {
      "text/plain": [
       "array([0.2, 0.3, 0.4, 0.5, 0.6])"
      ]
     },
     "execution_count": 32,
     "metadata": {},
     "output_type": "execute_result"
    }
   ],
   "source": [
    "# Access the last five elements of one_dim\n",
    "one_dim[-5:]"
   ]
  },
  {
   "cell_type": "code",
   "execution_count": 33,
   "metadata": {},
   "outputs": [
    {
     "data": {
      "text/plain": [
       "array([[3, 5],\n",
       "       [7, 6]])"
      ]
     },
     "execution_count": 33,
     "metadata": {},
     "output_type": "execute_result"
    }
   ],
   "source": [
    "# Access the first two elements in the first two rows of two_dim\n",
    "two_dim[:2, :2]"
   ]
  },
  {
   "cell_type": "code",
   "execution_count": 34,
   "metadata": {},
   "outputs": [
    {
     "data": {
      "text/plain": [
       "array([[ 5,  2],\n",
       "       [ 6,  5],\n",
       "       [ 6, -1]])"
      ]
     },
     "execution_count": 34,
     "metadata": {},
     "output_type": "execute_result"
    }
   ],
   "source": [
    "# Access the second and third elements in all rows of two_dim\n",
    "two_dim[:, 1:3]"
   ]
  },
  {
   "cell_type": "code",
   "execution_count": null,
   "metadata": {
    "eid": "17b57f05"
   },
   "outputs": [],
   "source": [
    "# TASK --- Change all the values of the first two elements of all columns of two_dim to zero\n"
   ]
  },
  {
   "cell_type": "markdown",
   "metadata": {},
   "source": [
    "### Reshaping"
   ]
  },
  {
   "cell_type": "code",
   "execution_count": null,
   "metadata": {},
   "outputs": [],
   "source": [
    "# Reshape one_dim to two-dimensional 4x3 matrix\n",
    "one_dim = one_dim.reshape(4, 3)\n",
    "one_dim"
   ]
  },
  {
   "cell_type": "code",
   "execution_count": null,
   "metadata": {},
   "outputs": [],
   "source": [
    "# Flatten two_dim to vector\n",
    "two_dim = two_dim.flatten()\n",
    "two_dim"
   ]
  },
  {
   "cell_type": "code",
   "execution_count": null,
   "metadata": {
    "eid": "d17f57ef"
   },
   "outputs": [],
   "source": [
    "# TASK --- Print the shape of two_dim\n"
   ]
  },
  {
   "cell_type": "code",
   "execution_count": null,
   "metadata": {
    "eid": "8889ebf8"
   },
   "outputs": [],
   "source": [
    "# TASK --- Reshape two_dim to be a 2x6 matrix\n"
   ]
  },
  {
   "cell_type": "markdown",
   "metadata": {},
   "source": [
    "# Using `NumPy` for Simulations\n",
    "## Coin toss"
   ]
  },
  {
   "cell_type": "code",
   "execution_count": 35,
   "metadata": {},
   "outputs": [
    {
     "data": {
      "text/plain": [
       "array([1])"
      ]
     },
     "execution_count": 35,
     "metadata": {},
     "output_type": "execute_result"
    }
   ],
   "source": [
    "# Simulate a coin toss with one coin\n",
    "np.random.randint(low=0, high=2, size=1)"
   ]
  },
  {
   "cell_type": "code",
   "execution_count": 36,
   "metadata": {},
   "outputs": [
    {
     "name": "stdout",
     "output_type": "stream",
     "text": [
      "[1 0 0 0 1 0 0 1 0 0]\n",
      "Number of heads:  3\n"
     ]
    }
   ],
   "source": [
    "# Simulate a coin toss with 10 coins and count number of `heads`\n",
    "experiment = np.random.randint(0, 2, 10)\n",
    "print(experiment)\n",
    "print('Number of heads: ', experiment.sum())"
   ]
  },
  {
   "cell_type": "code",
   "execution_count": 37,
   "metadata": {},
   "outputs": [
    {
     "data": {
      "text/plain": [
       "array([[1, 1, 1, 1, 1, 1, 1, 0, 0, 1],\n",
       "       [0, 1, 1, 1, 1, 0, 1, 1, 1, 1],\n",
       "       [1, 0, 1, 0, 0, 1, 0, 1, 0, 1],\n",
       "       [1, 0, 0, 1, 1, 1, 1, 0, 0, 0],\n",
       "       [1, 0, 1, 0, 0, 0, 1, 0, 1, 1]])"
      ]
     },
     "execution_count": 37,
     "metadata": {},
     "output_type": "execute_result"
    }
   ],
   "source": [
    "# Simulate 10000 experiments\n",
    "coin_matrix = np.random.randint(0, 2, (10000, 10))\n",
    "coin_matrix[:5]"
   ]
  },
  {
   "cell_type": "code",
   "execution_count": 38,
   "metadata": {},
   "outputs": [
    {
     "data": {
      "text/plain": [
       "array([8, 8, 5, ..., 7, 1, 5])"
      ]
     },
     "execution_count": 38,
     "metadata": {},
     "output_type": "execute_result"
    }
   ],
   "source": [
    "# Count number of `heads` in each experiment\n",
    "heads = coin_matrix.sum(axis=1)\n",
    "heads"
   ]
  },
  {
   "cell_type": "code",
   "execution_count": 39,
   "metadata": {},
   "outputs": [
    {
     "data": {
      "text/plain": [
       "50010"
      ]
     },
     "execution_count": 39,
     "metadata": {},
     "output_type": "execute_result"
    }
   ],
   "source": [
    "# Count number of `heads` in all experiments\n",
    "heads_all = coin_matrix.sum()\n",
    "heads_all"
   ]
  },
  {
   "cell_type": "code",
   "execution_count": 40,
   "metadata": {},
   "outputs": [
    {
     "data": {
      "text/plain": [
       "5.001"
      ]
     },
     "execution_count": 40,
     "metadata": {},
     "output_type": "execute_result"
    }
   ],
   "source": [
    "# Find the mean number of `heads` over all experiment\n",
    "np.mean(heads)"
   ]
  },
  {
   "cell_type": "code",
   "execution_count": 41,
   "metadata": {},
   "outputs": [
    {
     "name": "stdout",
     "output_type": "stream",
     "text": [
      "Median:  5.0\n",
      "Minimum:  0\n",
      "Maximum:  10\n",
      "Standard deviation:  1.5761976398916475\n"
     ]
    }
   ],
   "source": [
    "# Find the median number of `heads` over all experiments\n",
    "print('Median: ', np.median(heads))\n",
    "# Find the minimum number of `heads` over all experiments\n",
    "print('Minimum: ', np.min(heads))\n",
    "# Find the maximum number of `heads` over all experiments\n",
    "print('Maximum: ', np.max(heads))\n",
    "# Find the standard deviation of `heads` over all experiments\n",
    "print('Standard deviation: ', np.std(heads))"
   ]
  },
  {
   "cell_type": "code",
   "execution_count": 42,
   "metadata": {},
   "outputs": [
    {
     "data": {
      "text/plain": [
       "array([  10,   88,  452, 1168, 2019, 2521, 2022, 1163,  459,   92,    6],\n",
       "      dtype=int64)"
      ]
     },
     "execution_count": 42,
     "metadata": {},
     "output_type": "execute_result"
    }
   ],
   "source": [
    "# Find the distribution of the number of `heads` over all experiments \n",
    "np.bincount(heads)"
   ]
  },
  {
   "cell_type": "markdown",
   "metadata": {},
   "source": [
    "## Simulating stock returns"
   ]
  },
  {
   "cell_type": "code",
   "execution_count": 43,
   "metadata": {
    "scrolled": true
   },
   "outputs": [
    {
     "data": {
      "text/plain": [
       "array([-2.30282986e-04,  1.83771658e-02,  1.32116463e-02,  2.92392612e-02,\n",
       "       -1.29173467e-03,  2.77542867e-02, -2.84158020e-03,  1.06598235e-03,\n",
       "        1.27927364e-02,  3.92404671e-03,  3.31345945e-02,  1.06373475e-02,\n",
       "       -2.90095317e-02,  3.95162004e-02, -8.53097979e-03,  3.54543939e-02,\n",
       "        6.47538043e-03,  1.66453830e-02,  9.90253358e-03, -2.92983332e-02,\n",
       "       -1.04869027e-02,  5.64802340e-02, -3.98456954e-02,  8.83394007e-03,\n",
       "        1.70790124e-03,  2.14691816e-02, -1.77075854e-02, -1.77441401e-02,\n",
       "        1.42705349e-02,  2.84383059e-02,  2.21072326e-02, -3.06994720e-02,\n",
       "       -3.83739897e-02, -1.53090672e-02,  1.07463506e-02,  6.18723859e-03,\n",
       "       -1.92984470e-02,  3.40422444e-02, -2.53549138e-02, -1.59161510e-02,\n",
       "        1.27463453e-02,  2.34035638e-02, -9.31738868e-03, -2.12029666e-02,\n",
       "        1.22516689e-02, -1.77149084e-03,  8.76488373e-03,  1.24075627e-02,\n",
       "        6.33109540e-04,  8.40556879e-03,  1.16084824e-02, -3.26060475e-02,\n",
       "        6.85403321e-03,  2.77099323e-02, -7.24410166e-03,  2.26132895e-02,\n",
       "       -1.25209649e-02, -2.48407969e-02,  3.40128400e-03, -7.23293609e-03,\n",
       "       -3.63931692e-02, -1.46009278e-02, -1.34354964e-02, -3.03967686e-02,\n",
       "       -3.81687318e-02, -6.54446152e-03, -1.51817763e-02, -1.30387454e-03,\n",
       "        1.42553304e-02, -4.54936779e-03, -7.50083209e-03, -3.81890737e-02,\n",
       "       -9.39804290e-04,  1.26958952e-02,  1.22445148e-02, -1.44558181e-02,\n",
       "        2.80490323e-02,  2.67497640e-02, -2.20912380e-02,  1.61298863e-02,\n",
       "       -2.14118763e-02,  9.59840469e-03, -4.61931333e-03,  4.89542351e-03,\n",
       "        4.76029662e-02, -1.13185453e-03, -2.10406738e-03,  6.32357416e-02,\n",
       "       -1.96277036e-02, -1.30713537e-02,  2.05089054e-02, -2.14449987e-02,\n",
       "        5.50760960e-03,  2.78846011e-03,  3.79005051e-02, -2.00511399e-02,\n",
       "       -3.09889611e-02,  1.04566969e-03, -1.52426795e-02,  1.01450512e-04,\n",
       "       -2.49478466e-02,  5.32405477e-03,  1.71736061e-02, -4.56353194e-02,\n",
       "        3.41150913e-02,  2.66061512e-02, -6.87348116e-03, -1.82750347e-02,\n",
       "        2.14288157e-02, -1.48470313e-02,  2.59644343e-02, -6.02023481e-03,\n",
       "        2.75485406e-02,  1.26243487e-02, -8.12452969e-03,  1.25101270e-02,\n",
       "       -8.27057913e-03,  7.25166540e-03,  2.24999846e-02,  9.07773433e-03,\n",
       "       -6.12565946e-03,  1.33643030e-02,  7.61564936e-03,  7.22617634e-03,\n",
       "       -3.60809480e-02,  2.60303920e-02, -4.06331194e-02,  7.96554198e-03,\n",
       "       -1.99465192e-02,  1.37179105e-02, -1.21748702e-03, -1.47896924e-03,\n",
       "        1.69136185e-02,  6.93747836e-03,  2.34401663e-02, -9.57928320e-03,\n",
       "        2.45294627e-02, -4.42631599e-03,  8.62268827e-03,  2.26906894e-02,\n",
       "        8.36330156e-03,  1.97402751e-02,  4.03800439e-03, -4.79658260e-03,\n",
       "        6.41116842e-03,  2.04163086e-02, -1.17464405e-02,  5.57934639e-03,\n",
       "        3.23528848e-02, -4.17086990e-03,  5.19177344e-05,  3.72692857e-02,\n",
       "       -2.68761899e-02,  1.66102300e-02, -4.26293318e-03, -3.75201277e-02,\n",
       "       -4.31057580e-03, -1.49598629e-02, -2.00753295e-02,  2.19070701e-03,\n",
       "       -1.75311872e-02,  1.77526444e-02,  1.80986960e-02, -1.29971567e-02,\n",
       "        5.67637861e-03, -8.84576140e-03,  1.50379061e-02,  2.24998933e-02,\n",
       "        2.12801907e-02,  1.25192882e-02,  1.47745589e-02,  9.58400520e-03,\n",
       "       -5.29211931e-03, -2.59565396e-02,  5.20978560e-03, -4.45565602e-03,\n",
       "       -2.16366541e-02,  1.81974467e-02,  2.43287047e-02,  7.38452998e-03,\n",
       "       -2.74215341e-02,  1.77960965e-02,  2.07366787e-02,  2.28201456e-02,\n",
       "       -1.48810031e-02,  7.54804135e-03, -4.28009129e-03,  2.08205396e-02,\n",
       "       -3.90481086e-03,  4.03556425e-02,  5.65618833e-03,  1.93775878e-02,\n",
       "       -1.06132518e-02,  6.41429193e-03, -3.24609122e-03,  7.01406192e-03,\n",
       "       -2.87259516e-02, -2.00194716e-03,  1.91163849e-03,  3.60884481e-02,\n",
       "        6.52239537e-03,  4.49197509e-03, -1.09882255e-02, -2.60730745e-02,\n",
       "        2.82872764e-02,  1.22041889e-02,  2.66242357e-02,  2.32770761e-02,\n",
       "        5.37380205e-03, -1.34829193e-02, -8.24370227e-04,  1.35460658e-02,\n",
       "       -2.78454453e-02,  1.06084871e-02,  1.08309499e-03, -1.19780881e-02,\n",
       "       -1.57259696e-02, -2.28778018e-03,  6.66870311e-03,  1.77541569e-02,\n",
       "        4.96864044e-03, -2.79657891e-03, -3.10922608e-02,  1.94800664e-02,\n",
       "       -2.71038046e-03,  1.52166061e-02, -5.17609451e-03,  7.35840774e-03,\n",
       "        3.24480323e-02, -3.85460774e-02, -3.70270329e-03,  2.93345857e-02,\n",
       "        1.68525057e-02,  2.34925782e-02,  1.10994596e-03, -1.80244375e-02,\n",
       "       -8.67468595e-03, -1.34455280e-02, -3.06330504e-02,  1.33147792e-02,\n",
       "        3.30807763e-02,  4.14795408e-02, -2.17342493e-02,  1.70415187e-02,\n",
       "       -1.54251684e-02, -4.45900402e-03,  1.79548751e-02,  2.35376232e-02,\n",
       "        8.42686085e-04,  1.23618281e-02])"
      ]
     },
     "execution_count": 43,
     "metadata": {},
     "output_type": "execute_result"
    }
   ],
   "source": [
    "# Simulate stock returns\n",
    "returns = np.random.normal(0.001, 0.02, 250)\n",
    "returns"
   ]
  },
  {
   "cell_type": "code",
   "execution_count": 46,
   "metadata": {},
   "outputs": [
    {
     "data": {
      "text/plain": [
       "array([ 99.97697435, 101.8312538 , 103.18553878, 106.2471492 ,\n",
       "       106.10999467, 109.09625091, 108.7866852 , 108.90271171,\n",
       "       110.30482471, 110.73851635, 114.46925918, 115.69340777,\n",
       "       112.38540991, 116.9153682 , 115.9222079 , 120.10588618,\n",
       "       120.88614098, 122.91517728, 124.13839544, 120.55411054,\n",
       "       119.29647718, 126.2282825 , 121.29751607, 122.37379796,\n",
       "       122.5829789 , 125.24318923, 123.04495491, 120.88088455,\n",
       "       122.61828678, 126.1553995 , 128.97540264, 125.0760856 ,\n",
       "       120.36734164, 118.53866331, 119.8193906 , 120.56303995,\n",
       "       118.25866744, 122.3537656 , 119.290495  , 117.4068792 ,\n",
       "       118.91296598, 121.72877462, 120.5998478 , 118.06969145,\n",
       "       119.52513984, 119.31358959, 120.36395577, 121.86668242,\n",
       "       121.9438618 , 122.9731893 , 124.4090393 , 120.4179723 ,\n",
       "       121.24615604, 124.65286061, 123.75312544, 126.5834718 ,\n",
       "       125.00840584, 121.9413492 , 122.35681252, 121.47500638,\n",
       "       117.13362342, 115.43578898, 113.89522415, 110.48526578,\n",
       "       106.34764941, 105.65393378, 104.0620339 , 103.92643848,\n",
       "       105.41855423, 104.94005571, 104.1558627 , 100.25323985,\n",
       "       100.15906568, 101.43878106, 102.68848511, 101.21471698,\n",
       "       104.09388198, 106.91594524, 104.5799373 , 106.28047769,\n",
       "       104.02900341, 105.03232331, 104.54826497, 105.06132781,\n",
       "       110.18350689, 110.05886574, 109.82753792, 116.99685335,\n",
       "       114.72286339, 113.23303849, 115.57930157, 113.12709139,\n",
       "       113.75187019, 114.06950539, 118.47576965, 116.12385351,\n",
       "       112.58048219, 112.69826576, 110.99346807, 111.00472898,\n",
       "       108.26965894, 108.84762974, 110.73307971, 105.79331146,\n",
       "       109.46472925, 112.41625463, 111.64621309, 109.62440525,\n",
       "       111.99887662, 110.34830913, 113.25096033, 112.57121114,\n",
       "       115.71549508, 117.18558779, 116.23736714, 117.70064518,\n",
       "       116.73120712, 117.58077946, 120.25633225, 121.3529572 ,\n",
       "       120.61186247, 122.234575  , 123.16902437, 124.06228902,\n",
       "       119.66579579, 122.82163909, 117.93104566, 118.87418166,\n",
       "       116.52654693, 118.13606202, 117.99232042, 117.81794239,\n",
       "       119.82761764, 120.6618094 , 123.5235511 , 122.34593339,\n",
       "       125.38412365, 124.83036037, 125.91138764, 128.80106423,\n",
       "       129.88278344, 132.47217892, 133.00818362, 132.37172651,\n",
       "       133.22311021, 135.97098968, 134.38315848, 135.13502418,\n",
       "       139.5785245 , 138.99757301, 139.00478963, 144.28314822,\n",
       "       140.45701321, 142.80952026, 142.20202859, 136.9654433 ,\n",
       "       136.37631403, 134.3513276 , 131.68107323, 131.9698641 ,\n",
       "       129.67643769, 131.99909301, 134.40985448, 132.67421218,\n",
       "       133.42946276, 132.25438247, 134.2582406 , 137.31327681,\n",
       "       140.26664217, 142.03371888, 144.14778315, 145.53593767,\n",
       "       144.76777851, 141.05845678, 141.79525872, 141.16487325,\n",
       "       138.14334348, 140.68021187, 144.14475221, 145.21313335,\n",
       "       141.28526665, 143.82209879, 146.83562877, 150.22496468,\n",
       "       148.00601754, 149.12739988, 148.49048499, 151.61454649,\n",
       "       151.02367473, 157.24298016, 158.13489612, 161.22905076,\n",
       "       159.52693471, 160.55347579, 160.03314953, 161.15957775,\n",
       "       156.59597624, 156.28279296, 156.5818349 , 162.33583226,\n",
       "       163.39811128, 164.1337425 , 162.34007657, 158.16207502,\n",
       "       162.69992852, 164.69771507, 169.14156036, 173.12486128,\n",
       "       174.05770422, 171.72664827, 171.58514027, 173.92525778,\n",
       "       169.14903811, 170.95300526, 171.13826392, 169.10058283,\n",
       "       166.46211283, 166.0817194 , 167.19297026, 170.18784759,\n",
       "       171.03555404, 170.55790782, 165.33647065, 168.58881113,\n",
       "       168.13248999, 170.7104601 , 169.82912952, 171.08341059,\n",
       "       176.72577743, 170.04331075, 169.41485503, 174.45817989,\n",
       "       177.42315078, 181.64062372, 181.84234692, 178.59410274,\n",
       "       177.05155522, 174.68693598, 169.41687341, 171.68770594,\n",
       "       177.46225522, 184.97810755, 181.00112218, 184.11208869,\n",
       "       181.29391996, 180.48732928, 183.75722416, 188.13373676,\n",
       "       188.29234126, 190.63442521])"
      ]
     },
     "execution_count": 46,
     "metadata": {},
     "output_type": "execute_result"
    }
   ],
   "source": [
    "# Calculate prices for each day in the trading year, starting from an initial price of 100\n",
    "initial_price = 100\n",
    "price = initial_price * np.exp(returns.cumsum())\n",
    "price"
   ]
  },
  {
   "cell_type": "code",
   "execution_count": 47,
   "metadata": {},
   "outputs": [
    {
     "data": {
      "image/png": "[encoded data removed]",
      "text/plain": [
       "<Figure size 432x288 with 1 Axes>"
      ]
     },
     "metadata": {
      "needs_background": "light"
     },
     "output_type": "display_data"
    }
   ],
   "source": [
    "# Plot prices using matplotlib\n",
    "import matplotlib.pyplot as plt\n",
    "%matplotlib inline\n",
    "plt.plot(price);"
   ]
  },
  {
   "cell_type": "code",
   "execution_count": 48,
   "metadata": {
    "eid": "cc13c3fd"
   },
   "outputs": [
    {
     "data": {
      "text/plain": [
       "133.65830983020336"
      ]
     },
     "execution_count": 48,
     "metadata": {},
     "output_type": "execute_result"
    }
   ],
   "source": [
    "# TASK --- Find the mean price\n",
    "np.mean(price)"
   ]
  },
  {
   "cell_type": "code",
   "execution_count": 49,
   "metadata": {
    "eid": "e01eceaa"
   },
   "outputs": [
    {
     "data": {
      "text/plain": [
       "190.63442521133766"
      ]
     },
     "execution_count": 49,
     "metadata": {},
     "output_type": "execute_result"
    }
   ],
   "source": [
    "# TASK --- Find the maximum price\n",
    "np.max(price)"
   ]
  },
  {
   "cell_type": "code",
   "execution_count": 50,
   "metadata": {
    "eid": "72d90917"
   },
   "outputs": [
    {
     "data": {
      "text/plain": [
       "99.97697435268081"
      ]
     },
     "execution_count": 50,
     "metadata": {},
     "output_type": "execute_result"
    }
   ],
   "source": [
    "# TASK --- Find the minimum price\n",
    "np.min(price)"
   ]
  }
 ],
 "metadata": {
  "kernelspec": {
   "display_name": "Python 3",
   "language": "python",
   "name": "python3"
  },
  "language_info": {
   "codemirror_mode": {
    "name": "ipython",
    "version": 3
   },
   "file_extension": ".py",
   "mimetype": "text/x-python",
   "name": "python",
   "nbconvert_exporter": "python",
   "pygments_lexer": "ipython3",
   "version": "3.7.4"
  }
 },
 "nbformat": 4,
 "nbformat_minor": 2
}
